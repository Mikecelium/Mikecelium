{
  "nbformat": 4,
  "nbformat_minor": 0,
  "metadata": {
    "colab": {
      "provenance": [],
      "authorship_tag": "ABX9TyOmYaKoobQitgYdEDGe8H2r",
      "include_colab_link": true
    },
    "kernelspec": {
      "name": "python3",
      "display_name": "Python 3"
    },
    "language_info": {
      "name": "python"
    }
  },
  "cells": [
    {
      "cell_type": "markdown",
      "metadata": {
        "id": "view-in-github",
        "colab_type": "text"
      },
      "source": [
        "<a href=\"https://colab.research.google.com/github/Mikecelium/Mikecelium/blob/main/Business_Card_Training_Notebook_YOLOv8.ipynb\" target=\"_parent\"><img src=\"https://colab.research.google.com/assets/colab-badge.svg\" alt=\"Open In Colab\"/></a>"
      ]
    },
    {
      "cell_type": "code",
      "execution_count": null,
      "metadata": {
        "id": "CcAFirLj6l4O"
      },
      "outputs": [],
      "source": [
        "# DATASET PARAMETERS\n",
        "API_KEY = \"30babc580c6ad7af4016a1b4556b76f7cd3b8e15\"\n",
        "PROJECT_NAME = \"BusinessCardRecognition\"\n",
        "\n",
        "# PARAMETERS\n",
        "MODEL = \"unet\"\n",
        "MODEL_ENCODER = \"resnet18\"\n",
        "IMG_SIZE = 512\n",
        "CROP_SIZE = 256\n",
        "MAX_EPOCHS = 20\n",
        "BATCH_SIZE = 4"
      ]
    },
    {
      "cell_type": "markdown",
      "source": [
        "Copy this notebook into the notebook created via https://app.trainyolo.com/ that has your data"
      ],
      "metadata": {
        "id": "uUkFO_Gn9Raf"
      }
    },
    {
      "cell_type": "code",
      "source": [
        "from google.colab import drive\n",
        "drive.mount('/content/drive')"
      ],
      "metadata": {
        "id": "6OzUYPP38MS4"
      },
      "execution_count": null,
      "outputs": []
    },
    {
      "cell_type": "markdown",
      "source": [
        "Import Drive to access mask files"
      ],
      "metadata": {
        "id": "9iFSj0HV8PIQ"
      }
    },
    {
      "cell_type": "code",
      "source": [
        "!nvidia-smi"
      ],
      "metadata": {
        "id": "IA4HDOVp6uHh"
      },
      "execution_count": null,
      "outputs": []
    },
    {
      "cell_type": "markdown",
      "source": [
        "Make sure you have a nvidia GPU instance activated"
      ],
      "metadata": {
        "id": "fz5MQXBW8VX3"
      }
    },
    {
      "cell_type": "code",
      "source": [
        "import os\n",
        "HOME = os.getcwd()\n",
        "print(HOME)"
      ],
      "metadata": {
        "id": "1PtULBEN7yl_"
      },
      "execution_count": null,
      "outputs": []
    },
    {
      "cell_type": "code",
      "source": [
        "# Pip install method (recommended)\n",
        "\n",
        "!pip install ultralytics==8.0.28\n",
        "\n",
        "from IPython import display\n",
        "display.clear_output()\n",
        "\n",
        "import ultralytics\n",
        "ultralytics.checks()"
      ],
      "metadata": {
        "id": "uIVFbK0d6-uf"
      },
      "execution_count": null,
      "outputs": []
    },
    {
      "cell_type": "markdown",
      "source": [
        "Pip install ultralytics"
      ],
      "metadata": {
        "id": "nPDBVEGd8bgA"
      }
    },
    {
      "cell_type": "code",
      "source": [
        "# install trainyolo segmentation library\n",
        "!git clone https://github.com/trainyolo/segment\n",
        "%cd segment\n",
        "%pip install -qr requirements.txt\n",
        "\n",
        "# install trainyolo sdk\n",
        "%pip install -qU trainyolo-py"
      ],
      "metadata": {
        "id": "0rRrZU7N6_WB"
      },
      "execution_count": null,
      "outputs": []
    },
    {
      "cell_type": "markdown",
      "source": [
        "Git Clone YOLOv8"
      ],
      "metadata": {
        "id": "mxa8PB7c8o2h"
      }
    },
    {
      "cell_type": "code",
      "source": [
        " #Git clone method (for development)\n",
        "\n",
        " #%cd {HOME}\n",
        " !git clone github.com/ultralytics/ultralytics\n",
        " #%cd {HOME}/ultralytics\n",
        " !pip install -e .\n",
        "\n",
        " from IPython import display\n",
        " display.clear_output()\n",
        "\n",
        " import ultralytics\n",
        " ultralytics.checks()"
      ],
      "metadata": {
        "id": "6kV5mnm-7DOO"
      },
      "execution_count": null,
      "outputs": []
    },
    {
      "cell_type": "code",
      "source": [
        "from ultralytics import YOLO\n",
        "\n",
        "from IPython.display import display, Image"
      ],
      "metadata": {
        "id": "3A0O28cI7LZa"
      },
      "execution_count": null,
      "outputs": []
    },
    {
      "cell_type": "markdown",
      "source": [
        "Train off of modified (mask to txt converted files)"
      ],
      "metadata": {
        "id": "WvrU2WH48yzC"
      }
    },
    {
      "cell_type": "code",
      "source": [
        "%cd {HOME}\n",
        "\n",
        "!yolo task=segment mode=train model=yolov8s-seg.pt data='/content/BusinessCardRecognition/dataset.yaml' epochs=320 imgsz=640"
      ],
      "metadata": {
        "id": "MKEywkxP7L53"
      },
      "execution_count": null,
      "outputs": []
    },
    {
      "cell_type": "code",
      "source": [
        "!ls {HOME}/runs/segment/train/"
      ],
      "metadata": {
        "id": "DzDm3K-S7gkD"
      },
      "execution_count": null,
      "outputs": []
    },
    {
      "cell_type": "markdown",
      "source": [
        "Try out the model on random images to visually assess it (not statistically)"
      ],
      "metadata": {
        "id": "mRZHnYZW9D_D"
      }
    },
    {
      "cell_type": "code",
      "source": [
        "%cd {HOME}\n",
        "!yolo task=segment mode=predict model=/content/runs/segment/train3/weights/best.pt conf=0.25 source=/content/test/ save=true"
      ],
      "metadata": {
        "id": "1ePVbtKm7kET"
      },
      "execution_count": null,
      "outputs": []
    }
  ]
}